{
 "cells": [
  {
   "cell_type": "code",
   "execution_count": 18,
   "id": "f27fd13e",
   "metadata": {},
   "outputs": [],
   "source": [
    "import requests"
   ]
  },
  {
   "cell_type": "code",
   "execution_count": 28,
   "id": "6b3c3e3e",
   "metadata": {},
   "outputs": [],
   "source": [
    "player_values = ['Andrew Wiggins', 'Kansas', 2014, 'freshman', 'G', 203.0, 91.0,\n",
    "                 35, 35, 25, 32.8, 0.448, 0.341, 3.6, 0.775, 6.5, 2.2, 3.7, 1.5,\n",
    "                 1.2, 1.0, 2.3, 2.7, 17.1, 21.4, 0.563, 0.499, 0.299, 8.4, 12.3,\n",
    "                 9.2, 26.3, 0.17, 8.3, 41, 5, 5, 4, 19, 7.701364840608661,\n",
    "                 1.5183234577813056, 1.1828709453991115, 0.9098104758908948,\n",
    "                 2.967854993982375, 35, 0.714, 1, 68.6, 0.542, 13.34, 6.91, 11.4,\n",
    "                 79.0, 70.1, 120.51, 90.71, 10.0]\n",
    "\n",
    "player_features = ['name', 'school', 'season', 'school_year', 'position', 'height',\n",
    "                   'weight', 'games_played', 'games_started', 'games_won', 'mpg', 'fg_pct',\n",
    "                   'fg3_pct', 'fg3a', 'ft_pct', 'fta', 'off_rpg', 'def_rpg', 'apg', 'spg',\n",
    "                   'bpg', 'tpg', 'fpg', 'ppg', 'per', 'ts_pct', 'eff_fg_pct', 'fg3a_rate',\n",
    "                   'off_reb_pct', 'def_reb_pct', 'ast_pct', 'usg_pct',\n",
    "                   'win_shares_per_40_mins', 'plus_minus', 'max_points', 'max_assists',\n",
    "                   'max_steals', 'max_blocks', 'max_rebounds', 'std_points', 'std_assists',\n",
    "                   'std_steals', 'std_blocks', 'std_rebounds', 'team_games_played',\n",
    "                   'win_pct', 'ncaa_tournament', 'pace', 'team_eff_fg_pct', 'srs_off',\n",
    "                   'srs_def', 'sos', 'team_ppg', 'opp_ppg', 'off_rating', 'def_rating',\n",
    "                   'ap_poll_rank']\n",
    "\n",
    "player_dict = {feat: [value] for feat, value in zip(player_features, player_values)}"
   ]
  },
  {
   "cell_type": "code",
   "execution_count": 25,
   "id": "3bf0dc5a",
   "metadata": {},
   "outputs": [],
   "source": [
    "response = requests.post(url, json=player_dict)"
   ]
  },
  {
   "cell_type": "code",
   "execution_count": 27,
   "id": "495da790",
   "metadata": {},
   "outputs": [
    {
     "data": {
      "text/plain": [
       "0.9985847633461445"
      ]
     },
     "execution_count": 27,
     "metadata": {},
     "output_type": "execute_result"
    }
   ],
   "source": [
    "response.json()"
   ]
  }
 ],
 "metadata": {
  "kernelspec": {
   "display_name": "Python 3 (ipykernel)",
   "language": "python",
   "name": "python3"
  },
  "language_info": {
   "codemirror_mode": {
    "name": "ipython",
    "version": 3
   },
   "file_extension": ".py",
   "mimetype": "text/x-python",
   "name": "python",
   "nbconvert_exporter": "python",
   "pygments_lexer": "ipython3",
   "version": "3.9.12"
  }
 },
 "nbformat": 4,
 "nbformat_minor": 5
}
