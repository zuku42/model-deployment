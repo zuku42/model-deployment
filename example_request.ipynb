{
 "cells": [
  {
   "cell_type": "code",
   "execution_count": 81,
   "id": "f27fd13e",
   "metadata": {},
   "outputs": [],
   "source": [
    "import requests"
   ]
  },
  {
   "cell_type": "code",
   "execution_count": 82,
   "id": "6b3c3e3e",
   "metadata": {},
   "outputs": [],
   "source": [
    "player_features = ['name', 'school', 'season', 'school_year', 'position', 'height',\n",
    "                   'weight', 'games_played', 'games_started', 'games_won', 'mpg', 'fg_pct',\n",
    "                   'fg3_pct', 'fg3a', 'ft_pct', 'fta', 'off_rpg', 'def_rpg', 'apg', 'spg',\n",
    "                   'bpg', 'tpg', 'fpg', 'ppg', 'per', 'ts_pct', 'eff_fg_pct', 'fg3a_rate',\n",
    "                   'off_reb_pct', 'def_reb_pct', 'ast_pct', 'usg_pct',\n",
    "                   'win_shares_per_40_mins', 'plus_minus', 'max_points', 'max_assists',\n",
    "                   'max_steals', 'max_blocks', 'max_rebounds', 'std_points', 'std_assists',\n",
    "                   'std_steals', 'std_blocks', 'std_rebounds', 'team_games_played',\n",
    "                   'win_pct', 'ncaa_tournament', 'pace', 'team_eff_fg_pct', 'srs_off',\n",
    "                   'srs_def', 'sos', 'team_ppg', 'opp_ppg', 'off_rating', 'def_rating',\n",
    "                   'ap_poll_rank']\n",
    "\n",
    "player1_values = ['Andrew Wiggins', 'Kansas', 2014, 'freshman', 'G', 203.0, 91.0,\n",
    "                  35, 35, 25, 32.8, 0.448, 0.341, 3.6, 0.775, 6.5, 2.2, 3.7, 1.5,\n",
    "                  1.2, 1.0, 2.3, 2.7, 17.1, 21.4, 0.563, 0.499, 0.299, 8.4, 12.3,\n",
    "                  9.2, 26.3, 0.17, 8.3, 41, 5, 5, 4, 19, 7.701364840608661,\n",
    "                  1.5183234577813056, 1.1828709453991115, 0.9098104758908948,\n",
    "                  2.967854993982375, 35, 0.714, 1, 68.6, 0.542, 13.34, 6.91, 11.4,\n",
    "                  79.0, 70.1, 120.51, 90.71, 10.0]\n",
    "\n",
    "player2_values = ['Shelvin Mack', 'Butler', 2011, 'junior', 'G', 190.0, 98.0,\n",
    "                  38, 37, 28, 32.1, 0.408, 0.354, 6.5, 0.769, 4.1, 0.7, 3.8, 3.4,\n",
    "                  0.8, 0.1, 2.4, 1.7, 16.0, 21.0, 0.537, 0.496, 0.499, 2.6, 14.4,\n",
    "                  24.9, 28.6, 0.163, 6.6, 32, 8, 3, 1, 9, 6.47865662693669,\n",
    "                  1.845297985079812, 0.8632220772029855, 0.2696565991042,\n",
    "                  1.969996554969779, 38, 0.737, 1, 64.5, 0.501, 5.06, 6.48, 5.02,\n",
    "                  71.2, 64.1, 111.6, 93.16, 0]\n",
    "\n",
    "player3_values = ['Tucker Halpern', 'Brown', 2013, 'junior', 'F', 203.0,\n",
    "        100.0, 25, 15, 11, 29.4, 0.354, 0.365, 5.9, 0.774, 1.2, 0.4, 2.2,\n",
    "        1.3, 1.3, 0.4, 1.4, 1.3, 9.1, 12.9, 0.503, 0.481, 0.698, 1.7,\n",
    "        10.0, 10.1, 19.2, 0.082, 0.4, 28, 6, 4, 2, 10, 6.819501448053223,\n",
    "        1.3422369388450013, 1.04, 0.6974238309665077, 2.327573844156185,\n",
    "        28, 0.464, 0, 63.7, 0.478, -5.93, -0.39, -3.02, 62.4, 64.3, 92.5,\n",
    "        100.72, 0]\n",
    "\n",
    "player1_dict = {feat: [value] for feat, value in zip(player_features, player1_values)}\n",
    "player2_dict = {feat: [value] for feat, value in zip(player_features, player2_values)}\n",
    "player3_dict = {feat: [value] for feat, value in zip(player_features, player3_values)}"
   ]
  },
  {
   "cell_type": "code",
   "execution_count": 83,
   "id": "2413d3c8",
   "metadata": {},
   "outputs": [],
   "source": [
    "url = \"http://0000:9696/predict\""
   ]
  },
  {
   "cell_type": "code",
   "execution_count": 84,
   "id": "3bf0dc5a",
   "metadata": {},
   "outputs": [],
   "source": [
    "response1 = requests.post(url, json=player1_dict)\n",
    "response2 = requests.post(url, json=player2_dict)\n",
    "response3 = requests.post(url, json=player3_dict)"
   ]
  },
  {
   "cell_type": "code",
   "execution_count": 85,
   "id": "495da790",
   "metadata": {},
   "outputs": [
    {
     "data": {
      "text/plain": [
       "0.9985847633461445"
      ]
     },
     "execution_count": 85,
     "metadata": {},
     "output_type": "execute_result"
    }
   ],
   "source": [
    "# probability of getting drafted (#1 pick of the 2014 NBA draft)\n",
    "response1.json()"
   ]
  },
  {
   "cell_type": "code",
   "execution_count": 86,
   "id": "0aed9dd2",
   "metadata": {},
   "outputs": [
    {
     "data": {
      "text/plain": [
       "0.6370182327237718"
      ]
     },
     "execution_count": 86,
     "metadata": {},
     "output_type": "execute_result"
    }
   ],
   "source": [
    "# probability of getting drafted (#34 pick of the 2011 NBA draft)\n",
    "response2.json()"
   ]
  },
  {
   "cell_type": "code",
   "execution_count": 88,
   "id": "11003717",
   "metadata": {},
   "outputs": [
    {
     "data": {
      "text/plain": [
       "0.00040872572459308196"
      ]
     },
     "execution_count": 88,
     "metadata": {},
     "output_type": "execute_result"
    }
   ],
   "source": [
    "# probability of getting drafted (undrafted in 2013)\n",
    "response3.json()"
   ]
  }
 ],
 "metadata": {
  "kernelspec": {
   "display_name": "Python 3 (ipykernel)",
   "language": "python",
   "name": "python3"
  },
  "language_info": {
   "codemirror_mode": {
    "name": "ipython",
    "version": 3
   },
   "file_extension": ".py",
   "mimetype": "text/x-python",
   "name": "python",
   "nbconvert_exporter": "python",
   "pygments_lexer": "ipython3",
   "version": "3.9.12"
  }
 },
 "nbformat": 4,
 "nbformat_minor": 5
}
